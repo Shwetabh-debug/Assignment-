{
 "cells": [
  {
   "cell_type": "markdown",
   "metadata": {},
   "source": [
    "# Problem:Write a Python Program to implement your own myreduce() function which works exactly like Python's built-in function reduce()\n"
   ]
  },
  {
   "cell_type": "code",
   "execution_count": null,
   "metadata": {},
   "outputs": [],
   "source": [
    "val=int(input(\"enter a range of list to be formed\"))\n",
    "arr=list(range(1,val+1))\n",
    "\n",
    "a=int(input(\"\"\"Choose one of the following to implement reduce function\n",
    "Press 1-Reduce all the elements of the list to a single sum value\n",
    "Press 2-Evaluate product of all the elements in the list\n",
    "\"\"\"))\n",
    "\n",
    "def my_reduce(li,n=1):\n",
    "    if n==1:\n",
    "        sum(li)\n",
    "    elif n==2:\n",
    "        mul(li)\n",
    "\n",
    "def sum(l):\n",
    "    s=0\n",
    "    for x in l:\n",
    "        s=s+x\n",
    "    print(\"sum of all the elements in the list is:\",'',s)\n",
    "\n",
    "def mul(l):\n",
    "    m=1\n",
    "    for x in l:\n",
    "        m=m*x\n",
    "    print(\"Product of all the elements in the list is:\",'',m)\n",
    "\n",
    "my_reduce(arr,a) "
   ]
  },
  {
   "cell_type": "markdown",
   "metadata": {},
   "source": [
    "# Problem:Write a Python program to implement your own myfilter() function which works exactly like Python's built-in function filter()"
   ]
  },
  {
   "cell_type": "code",
   "execution_count": null,
   "metadata": {},
   "outputs": [],
   "source": [
    "def evenno(l):\n",
    "    demo1=[]\n",
    "    for i in l:\n",
    "        if i%2==0:\n",
    "            demo1.append(i)\n",
    "    print(demo1)\n",
    "            \n",
    "def oddno(l):\n",
    "    demo1=[]\n",
    "    for i in l:\n",
    "        if i%2!=0:\n",
    "            demo1.append(i)\n",
    "    print(demo1)\n",
    "    \n",
    "def primeno(l):\n",
    "    k=[]\n",
    "    \n",
    "    for i in l:\n",
    "        demo=0\n",
    "        for j in range(1,i+1):\n",
    "            if i%j==0:\n",
    "                demo=demo+1\n",
    "        if demo==2:\n",
    "                k.append(i)    \n",
    "                \n",
    "    print(k)        \n",
    "        \n",
    "\n",
    "def my_filter(listt,n=1):\n",
    "    if n==1:\n",
    "        evenno(listt)\n",
    "    elif n==2:\n",
    "        oddno(listt)\n",
    "    elif n==3:\n",
    "        primeno(listt)\n",
    "\n",
    "    else:\n",
    "        print(\"enter correct choice\")\n",
    "                            \n",
    "kk=int(input(\"Please enter range of list to be entered\"))   \n",
    "lis=list(range(1,kk+1))\n",
    "p=int(input( \"\"\"Please enter your choice and press:\n",
    "1-To return even numbers from list\n",
    "2-To return odd numbers from list\n",
    "3-To return prime numbers from list\n",
    "\"\"\"))   \n",
    "my_filter(lis,p)"
   ]
  },
  {
   "cell_type": "markdown",
   "metadata": {},
   "source": [
    "# Write List comprehensions to produce the following Lists\n",
    "['x', 'xx', 'xxx', 'xxxx', 'y', 'yy', 'yyy', 'yyyy', 'z', 'zz', 'zzz', 'zzzz']"
   ]
  },
  {
   "cell_type": "code",
   "execution_count": 65,
   "metadata": {},
   "outputs": [
    {
     "data": {
      "text/plain": [
       "['x', 'xx', 'xxx', 'y', 'yy', 'yyy', 'z', 'zz', 'zzz']"
      ]
     },
     "execution_count": 65,
     "metadata": {},
     "output_type": "execute_result"
    }
   ],
   "source": [
    "list=['x','y','z']\n",
    "val=[i*j for i in list for j in range(1,4)]\n",
    "val"
   ]
  },
  {
   "cell_type": "markdown",
   "metadata": {},
   "source": [
    "\n",
    "# ['x', 'y', 'z', 'xx', 'yy', 'zz', 'xxx', 'yyy', 'zzz', 'xxxx', 'yyyy', 'zzzz']"
   ]
  },
  {
   "cell_type": "code",
   "execution_count": 66,
   "metadata": {},
   "outputs": [
    {
     "data": {
      "text/plain": [
       "['x', 'y', 'z', 'xx', 'yy', 'zz', 'xxx', 'yyy', 'zzz', 'xxxx', 'yyyy', 'zzzz']"
      ]
     },
     "execution_count": 66,
     "metadata": {},
     "output_type": "execute_result"
    }
   ],
   "source": [
    "list2=['x','y','z']\n",
    "val2=[i*j for j in range(1,5) for i in list2]\n",
    "val2"
   ]
  },
  {
   "cell_type": "markdown",
   "metadata": {},
   "source": [
    "# [[2], [3], [4], [3], [4], [5], [4], [5], [6]]"
   ]
  },
  {
   "cell_type": "code",
   "execution_count": null,
   "metadata": {},
   "outputs": [],
   "source": [
    "list4=[1,2,3]\n",
    "val4=[[i+j] for i in list4 for j in range(1,4)]\n",
    "val4"
   ]
  },
  {
   "cell_type": "markdown",
   "metadata": {},
   "source": [
    "# [[2, 3, 4, 5], [3, 4, 5, 6],[4, 5, 6, 7], [5, 6, 7, 8]]"
   ]
  },
  {
   "cell_type": "code",
   "execution_count": null,
   "metadata": {},
   "outputs": [],
   "source": [
    "list5=[1,2,3,4]\n",
    "val5=[[i+j for i in list5] for j in range(1,5)]\n",
    "val5"
   ]
  },
  {
   "cell_type": "markdown",
   "metadata": {},
   "source": [
    "# [(1, 1), (2, 1), (3, 1), (1, 2), (2, 2), (3, 2), (1, 3), (2, 3), (3, 3)]"
   ]
  },
  {
   "cell_type": "code",
   "execution_count": null,
   "metadata": {},
   "outputs": [],
   "source": [
    "list3=[1,2,3]\n",
    "val3=[(i,j) for j in list3 for i in list3]\n",
    "val3"
   ]
  }
 ],
 "metadata": {
  "kernelspec": {
   "display_name": "Python 3",
   "language": "python",
   "name": "python3"
  },
  "language_info": {
   "codemirror_mode": {
    "name": "ipython",
    "version": 3
   },
   "file_extension": ".py",
   "mimetype": "text/x-python",
   "name": "python",
   "nbconvert_exporter": "python",
   "pygments_lexer": "ipython3",
   "version": "3.7.6"
  }
 },
 "nbformat": 4,
 "nbformat_minor": 4
}
