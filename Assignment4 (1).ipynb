{
 "cells": [
  {
   "cell_type": "markdown",
   "metadata": {},
   "source": [
    "Problem 1-Write a Python Program(with class concepts) to find the area of the triangle using the below\n",
    "formula.\n",
    "area = (s*(s-a)*(s-b)*(s-c)) ** 0.5\n",
    "Function to take the length of the sides of triangle from user should be defined in the parent\n",
    "class and function to calculate the area should be defined in subclass."
   ]
  },
  {
   "cell_type": "code",
   "execution_count": 1,
   "metadata": {},
   "outputs": [],
   "source": [
    "class area:\n",
    "    \n",
    "    \n",
    "    def __init__(self,a,b,c):\n",
    "        \n",
    "        self.a=a\n",
    "        self.b=b\n",
    "        self.c=c\n",
    "        self.sp=(a+b+c)/2\n",
    "    "
   ]
  },
  {
   "cell_type": "code",
   "execution_count": 2,
   "metadata": {},
   "outputs": [],
   "source": [
    "class calculation(area):\n",
    "      def cal(self):\n",
    "        self.are=(self.sp*(self.sp-self.a)*(self.sp-self.b)*(self.sp-self.c))**0.5\n",
    "        return self.are"
   ]
  },
  {
   "cell_type": "code",
   "execution_count": 3,
   "metadata": {},
   "outputs": [],
   "source": [
    "tri1=area(10,20,25)"
   ]
  },
  {
   "cell_type": "code",
   "execution_count": 4,
   "metadata": {},
   "outputs": [
    {
     "data": {
      "text/plain": [
       "94.99177595981665"
      ]
     },
     "execution_count": 4,
     "metadata": {},
     "output_type": "execute_result"
    }
   ],
   "source": [
    "calculation.cal(tri1)"
   ]
  },
  {
   "cell_type": "markdown",
   "metadata": {},
   "source": [
    "Problem 2-Write a function filter_long_words() that takes a list of words and an integer n and returns\n",
    "the list of words that are longer than n."
   ]
  },
  {
   "cell_type": "code",
   "execution_count": 5,
   "metadata": {},
   "outputs": [
    {
     "name": "stdout",
     "output_type": "stream",
     "text": [
      "enter the size of the list5\n",
      "please enter the elements\n",
      "please enter 0th elementearth\n",
      "please enter 1th elementsun\n",
      "please enter 2th elementmoon\n",
      "please enter 3th elementplanets\n",
      "please enter 4th elementsolarsystem\n",
      "please enter 5th elementecosystem\n",
      "enter an integer n to get list of elements greater than n5\n"
     ]
    },
    {
     "data": {
      "text/plain": [
       "['planets', 'solarsystem', 'ecosystem']"
      ]
     },
     "execution_count": 5,
     "metadata": {},
     "output_type": "execute_result"
    }
   ],
   "source": [
    "list1=[]\n",
    "x=int(input('enter the size of the list'))\n",
    "print(\"please enter the elements\")\n",
    "for i in range(0,x+1):\n",
    "    a=input(\"please enter {}th element\".format(i))\n",
    "    list1.append(a)\n",
    "n=int(input(\"enter an integer n to get list of elements greater than n\"))\n",
    "def filter_long_words(l,a=n):\n",
    "    if len(l)>n:\n",
    "        return True\n",
    "list(filter(filter_long_words,list1))"
   ]
  },
  {
   "cell_type": "markdown",
   "metadata": {},
   "source": [
    "Problem 3-Write a Python program using function concept that maps list of words into a list of integers\n",
    "representing the lengths of the corresponding words."
   ]
  },
  {
   "cell_type": "code",
   "execution_count": 6,
   "metadata": {},
   "outputs": [
    {
     "name": "stdout",
     "output_type": "stream",
     "text": [
      "please enter the size of the list4\n",
      "Enter your 0 element of the listshwetabh\n",
      "Enter your 1 element of the listdixit\n",
      "Enter your 2 element of the listineuron\n",
      "Enter your 3 element of the listdatascience\n",
      "The length of each corresponding elements are:\n"
     ]
    },
    {
     "data": {
      "text/plain": [
       "[8, 5, 7, 11]"
      ]
     },
     "execution_count": 6,
     "metadata": {},
     "output_type": "execute_result"
    }
   ],
   "source": [
    "list2=[]\n",
    "n=int(input('please enter the size of the list'))\n",
    "for j in range(0,n):\n",
    "    list2.append(input('Enter your {} element of the list'.format(j)))\n",
    "def mapf(x):\n",
    "    return len(x) \n",
    "print(\"The length of each corresponding elements are:\")\n",
    "list(map(mapf,list2))"
   ]
  },
  {
   "cell_type": "markdown",
   "metadata": {},
   "source": [
    "Problem4-Write a Python function which takes a character (i.e. a string of length 1) and returns True if\n",
    "it is a vowel, False otherwise."
   ]
  },
  {
   "cell_type": "code",
   "execution_count": 8,
   "metadata": {},
   "outputs": [
    {
     "name": "stdout",
     "output_type": "stream",
     "text": [
      "enter the character to be checked:a\n"
     ]
    },
    {
     "data": {
      "text/plain": [
       "True"
      ]
     },
     "execution_count": 8,
     "metadata": {},
     "output_type": "execute_result"
    }
   ],
   "source": [
    "x=input('enter the character to be checked:')\n",
    "def check(n):\n",
    "    if (n=='a'or n=='A'or n=='e'or n=='E'or n=='i'or n=='I'or n=='o'or n=='O'or n=='u'or n=='U'):\n",
    "         return True\n",
    "   \n",
    "    else:\n",
    "         return False\n",
    "         \n",
    "check(x) "
   ]
  },
  {
   "cell_type": "code",
   "execution_count": null,
   "metadata": {},
   "outputs": [],
   "source": []
  }
 ],
 "metadata": {
  "kernelspec": {
   "display_name": "Python 3",
   "language": "python",
   "name": "python3"
  },
  "language_info": {
   "codemirror_mode": {
    "name": "ipython",
    "version": 3
   },
   "file_extension": ".py",
   "mimetype": "text/x-python",
   "name": "python",
   "nbconvert_exporter": "python",
   "pygments_lexer": "ipython3",
   "version": "3.7.6"
  }
 },
 "nbformat": 4,
 "nbformat_minor": 4
}
